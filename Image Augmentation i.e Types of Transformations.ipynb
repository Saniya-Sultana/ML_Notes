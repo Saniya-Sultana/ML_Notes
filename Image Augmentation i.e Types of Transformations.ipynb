{
 "cells": [
  {
   "cell_type": "code",
   "execution_count": 11,
   "id": "7bdbcbc9-3d45-43f9-8d16-744644c98544",
   "metadata": {},
   "outputs": [],
   "source": [
    "import numpy as np\n",
    "import cv2\n",
    "import os"
   ]
  },
  {
   "cell_type": "code",
   "execution_count": 13,
   "id": "b589bad5-06ca-4a8b-84eb-59becba6ec99",
   "metadata": {},
   "outputs": [],
   "source": [
    "img =cv2.imread(r\"C:\\Users\\syam0\\Downloads\\LionHorse\\Lion\\Lion4.jpg\")"
   ]
  },
  {
   "cell_type": "code",
   "execution_count": 9,
   "id": "2dc05c46-6346-4093-8577-66f3b8617511",
   "metadata": {},
   "outputs": [
    {
     "data": {
      "text/plain": [
       "(360, 640, 3)"
      ]
     },
     "execution_count": 9,
     "metadata": {},
     "output_type": "execute_result"
    }
   ],
   "source": [
    "img.shape"
   ]
  },
  {
   "cell_type": "markdown",
   "id": "0f0a4e26-b9e3-41d6-9e93-c817a369187f",
   "metadata": {},
   "source": [
    "### Creating translation matrix"
   ]
  },
  {
   "cell_type": "code",
   "execution_count": 11,
   "id": "7a3d69eb-a9ac-4c2e-a088-41fdd834ee79",
   "metadata": {},
   "outputs": [],
   "source": [
    "## translation"
   ]
  },
  {
   "cell_type": "code",
   "execution_count": 27,
   "id": "14171695-10e3-4aca-a764-8b493b006029",
   "metadata": {},
   "outputs": [],
   "source": [
    "# translation matrix\n",
    "tx = 50\n",
    "ty = 50\n",
    "t_img = np.array([[1,0,tx],[0,1,ty]],dtype=np.float32)\n",
    "t_img = cv2.warpAffine(img,t_img,(640,360))"
   ]
  },
  {
   "cell_type": "code",
   "execution_count": 21,
   "id": "c9db6a9f-f61d-4e02-b00f-f000f47694c4",
   "metadata": {},
   "outputs": [
    {
     "data": {
      "text/plain": [
       "array([[[  0,   0,   0],\n",
       "        [  0,   0,   0],\n",
       "        [  0,   0,   0],\n",
       "        ...,\n",
       "        [  0,   0,   0],\n",
       "        [  0,   0,   0],\n",
       "        [  0,   0,   0]],\n",
       "\n",
       "       [[  0,   0,   0],\n",
       "        [  0,   0,   0],\n",
       "        [  0,   0,   0],\n",
       "        ...,\n",
       "        [  0,   0,   0],\n",
       "        [  0,   0,   0],\n",
       "        [  0,   0,   0]],\n",
       "\n",
       "       [[  0,   0,   0],\n",
       "        [  0,   0,   0],\n",
       "        [  0,   0,   0],\n",
       "        ...,\n",
       "        [  0,   0,   0],\n",
       "        [  0,   0,   0],\n",
       "        [  0,   0,   0]],\n",
       "\n",
       "       ...,\n",
       "\n",
       "       [[  0,   0,   0],\n",
       "        [  0,   0,   0],\n",
       "        [  0,   0,   0],\n",
       "        ...,\n",
       "        [ 34, 161, 176],\n",
       "        [ 35, 163, 176],\n",
       "        [ 35, 163, 174]],\n",
       "\n",
       "       [[  0,   0,   0],\n",
       "        [  0,   0,   0],\n",
       "        [  0,   0,   0],\n",
       "        ...,\n",
       "        [ 34, 159, 173],\n",
       "        [ 34, 162, 173],\n",
       "        [ 36, 165, 174]],\n",
       "\n",
       "       [[  0,   0,   0],\n",
       "        [  0,   0,   0],\n",
       "        [  0,   0,   0],\n",
       "        ...,\n",
       "        [ 33, 159, 170],\n",
       "        [ 32, 161, 170],\n",
       "        [ 35, 165, 172]]], dtype=uint8)"
      ]
     },
     "execution_count": 21,
     "metadata": {},
     "output_type": "execute_result"
    }
   ],
   "source": [
    "t_img"
   ]
  },
  {
   "cell_type": "code",
   "execution_count": 25,
   "id": "c8a4cccc-6c9f-4adc-8bb5-93f26b5afcdd",
   "metadata": {},
   "outputs": [],
   "source": [
    "cv2.imshow(\"org_img\",img)\n",
    "cv2.imshow(\"t_img\",t_img)\n",
    "cv2.waitKey(0)\n",
    "cv2.destroyAllWindows()"
   ]
  },
  {
   "cell_type": "markdown",
   "id": "0d1c8020-28b4-4b6b-a904-a9b146f9ac9d",
   "metadata": {},
   "source": [
    "#### Adding borderMode"
   ]
  },
  {
   "cell_type": "code",
   "execution_count": 33,
   "id": "7e24a1ac-f753-4205-940d-5d9b4cc7e3a3",
   "metadata": {},
   "outputs": [],
   "source": [
    "# translation matrix\n",
    "tx = 50\n",
    "ty = 50\n",
    "t_img = np.array([[1,0,tx],[0,1,ty]],dtype=np.float32)\n",
    "\n",
    "t_img1 = cv2.warpAffine(img,t_img,(640,360),borderMode=cv2.BORDER_CONSTANT,borderValue=(0,0,255))\n",
    "t_img2 = cv2.warpAffine(img,t_img,(640,360),borderMode=cv2.BORDER_REFLECT)"
   ]
  },
  {
   "cell_type": "code",
   "execution_count": 41,
   "id": "a8cfe921-e376-4623-a854-5f5fd292d159",
   "metadata": {},
   "outputs": [],
   "source": [
    "cv2.imshow(\"org_img\",img)\n",
    "cv2.imshow(\"t_img1\",t_img1)\n",
    "cv2.imshow(\"t_img2\",t_img2)\n",
    "cv2.waitKey(0)\n",
    "cv2.destroyAllWindows()"
   ]
  },
  {
   "cell_type": "markdown",
   "id": "c0674703-2ffa-4280-9916-a31273a4ac3b",
   "metadata": {},
   "source": [
    "### Rotation "
   ]
  },
  {
   "cell_type": "markdown",
   "id": "7fd78d67-6930-47a6-95ee-49fc896a312f",
   "metadata": {},
   "source": [
    "#### creating rotation matrix"
   ]
  },
  {
   "cell_type": "code",
   "execution_count": 47,
   "id": "fdf0f0ff-9fcc-4f77-96a2-cd96ab8b4dcc",
   "metadata": {},
   "outputs": [
    {
     "data": {
      "text/plain": [
       "(360, 640, 3)"
      ]
     },
     "execution_count": 47,
     "metadata": {},
     "output_type": "execute_result"
    }
   ],
   "source": [
    "img.shape"
   ]
  },
  {
   "cell_type": "code",
   "execution_count": 49,
   "id": "aa304032-2d9c-44f6-b54a-50dfe59ddb72",
   "metadata": {},
   "outputs": [
    {
     "data": {
      "text/plain": [
       "180.0"
      ]
     },
     "execution_count": 49,
     "metadata": {},
     "output_type": "execute_result"
    }
   ],
   "source": [
    "360/2"
   ]
  },
  {
   "cell_type": "code",
   "execution_count": 51,
   "id": "8e0a6ebd-6687-4ea9-9112-6b7761a9f159",
   "metadata": {},
   "outputs": [
    {
     "data": {
      "text/plain": [
       "320.0"
      ]
     },
     "execution_count": 51,
     "metadata": {},
     "output_type": "execute_result"
    }
   ],
   "source": [
    "640/2"
   ]
  },
  {
   "cell_type": "code",
   "execution_count": 63,
   "id": "3d58101e-bbc6-4537-a883-7a7bf8f7c4f0",
   "metadata": {},
   "outputs": [],
   "source": [
    "r_m = cv2.getRotationMatrix2D((180,320),-90,1)  #--- here 180 and 320 is the center pixel"
   ]
  },
  {
   "cell_type": "code",
   "execution_count": 65,
   "id": "c99ce2ef-b7ed-4a7a-ab88-74ebcaab80bb",
   "metadata": {},
   "outputs": [
    {
     "data": {
      "text/plain": [
       "array([[ 6.123234e-17, -1.000000e+00,  5.000000e+02],\n",
       "       [ 1.000000e+00,  6.123234e-17,  1.400000e+02]])"
      ]
     },
     "execution_count": 65,
     "metadata": {},
     "output_type": "execute_result"
    }
   ],
   "source": [
    "r_m"
   ]
  },
  {
   "cell_type": "code",
   "execution_count": 67,
   "id": "3fb23aca-7383-46b6-9aeb-dc6c612de5b7",
   "metadata": {},
   "outputs": [],
   "source": [
    "rot_img = cv2.warpAffine(img,r_m,(640,360))"
   ]
  },
  {
   "cell_type": "code",
   "execution_count": 69,
   "id": "182d6be3-ed93-4f7c-9e03-72eb76e459c7",
   "metadata": {},
   "outputs": [],
   "source": [
    "cv2.imshow(\"org_img\",img)\n",
    "cv2.imshow(\"rot_img\",rot_img)\n",
    "cv2.waitKey(0)\n",
    "cv2.destroyAllWindows()"
   ]
  },
  {
   "cell_type": "markdown",
   "id": "cd6295d4-efae-463d-a264-a36f77f51e61",
   "metadata": {},
   "source": [
    "#### here the pixel is the starting pixel i.e 0,0 and angel is 10 . and 1 is the same img size no zoom in and zoom out"
   ]
  },
  {
   "cell_type": "code",
   "execution_count": 71,
   "id": "fa28274e-a460-43e1-a279-0dee0b6ef985",
   "metadata": {},
   "outputs": [],
   "source": [
    "r_m = cv2.getRotationMatrix2D((0,0),10,1)"
   ]
  },
  {
   "cell_type": "code",
   "execution_count": 73,
   "id": "4f1609c8-bddf-44aa-8b0b-621b938ba5c6",
   "metadata": {},
   "outputs": [
    {
     "data": {
      "text/plain": [
       "array([[ 0.98480775,  0.17364818,  0.        ],\n",
       "       [-0.17364818,  0.98480775,  0.        ]])"
      ]
     },
     "execution_count": 73,
     "metadata": {},
     "output_type": "execute_result"
    }
   ],
   "source": [
    "r_m"
   ]
  },
  {
   "cell_type": "markdown",
   "id": "8b69cfd7-9b73-4ad1-865f-18986884340c",
   "metadata": {},
   "source": [
    "#### warpAffine has total control on the pixels and the angles i.e on transformation"
   ]
  },
  {
   "cell_type": "code",
   "execution_count": 75,
   "id": "3614073a-499a-40a4-b486-20cfbf6d966a",
   "metadata": {},
   "outputs": [],
   "source": [
    "rot_img1 = cv2.warpAffine(img,r_m,(640,360))"
   ]
  },
  {
   "cell_type": "code",
   "execution_count": 77,
   "id": "1928cdf2-9493-42ba-9654-ee96b4ca93fe",
   "metadata": {},
   "outputs": [],
   "source": [
    "cv2.imshow(\"org_img\",img)\n",
    "cv2.imshow(\"rot_img\",rot_img1)\n",
    "cv2.waitKey(0)\n",
    "cv2.destroyAllWindows()"
   ]
  },
  {
   "cell_type": "markdown",
   "id": "7ac6d4ce-c5cf-47ba-91ef-8fb9e28a209d",
   "metadata": {},
   "source": [
    "#### For direct rotation cv2 has the function i.e rotate"
   ]
  },
  {
   "cell_type": "code",
   "execution_count": 83,
   "id": "04fe0ed2-e883-4d3d-b4d8-cac3ba5e77b2",
   "metadata": {},
   "outputs": [],
   "source": [
    "img1 = cv2.rotate(img,cv2.ROTATE_180)\n",
    "img2 = cv2.rotate(img,cv2.ROTATE_90_CLOCKWISE)\n",
    "img3 = cv2.rotate(img,cv2.ROTATE_90_COUNTERCLOCKWISE)\n",
    "\n",
    "cv2.imshow(\"org_img\",img)\n",
    "cv2.imshow(\"rot_img1\",img1)\n",
    "cv2.imshow(\"rot_img2\",img2)\n",
    "cv2.imshow(\"rot_img3\",img3)\n",
    "cv2.waitKey(0)\n",
    "cv2.destroyAllWindows()"
   ]
  },
  {
   "cell_type": "markdown",
   "id": "e33b51e1-bbdf-4dab-a25c-d2d2ccbdf4eb",
   "metadata": {},
   "source": [
    "### Scaling --  zoom in or zoom out"
   ]
  },
  {
   "cell_type": "code",
   "execution_count": 26,
   "id": "2d4962a6-1834-4e0c-9a24-dae6c189ca88",
   "metadata": {},
   "outputs": [],
   "source": [
    "sx = 2\n",
    "sy =2\n",
    "tx = 10\n",
    "ty = 10\n",
    "sc_m = np.array([[sx,0,tx],[0,sy,ty]],dtype = np.float32)"
   ]
  },
  {
   "cell_type": "code",
   "execution_count": 28,
   "id": "0b207c6f-5318-4469-b49d-a29b72e09b02",
   "metadata": {},
   "outputs": [
    {
     "data": {
      "text/plain": [
       "array([[ 2.,  0., 10.],\n",
       "       [ 0.,  2., 10.]], dtype=float32)"
      ]
     },
     "execution_count": 28,
     "metadata": {},
     "output_type": "execute_result"
    }
   ],
   "source": [
    "sc_m"
   ]
  },
  {
   "cell_type": "code",
   "execution_count": 30,
   "id": "5be31052-3a45-46ad-9600-49c5f04bb50d",
   "metadata": {},
   "outputs": [],
   "source": [
    "scal_img = cv2.warpAffine(img,sc_m,(3*640,3*360))\n",
    "\n",
    "cv2.imshow(\"org_img\",img)\n",
    "cv2.imshow(\"scal_img\",scal_img)\n",
    "cv2.waitKey(10000)\n",
    "cv2.destroyAllWindows()"
   ]
  },
  {
   "cell_type": "markdown",
   "id": "f82948c8-6cb8-460e-959b-0594b057ced3",
   "metadata": {},
   "source": [
    "#### directly with resize also we can perform zoomin and zoomout"
   ]
  },
  {
   "cell_type": "code",
   "execution_count": 12,
   "id": "9501f38c-96de-4e55-8665-2708b9570539",
   "metadata": {},
   "outputs": [],
   "source": [
    "\n",
    "cv2.imshow(\"org_img\",cv2.resize(img,(500,500)))\n",
    "cv2.imshow(\"scal_img\",cv2.resize(scal_img,(50,50)))\n",
    "cv2.waitKey(0)\n",
    "cv2.destroyAllWindows()"
   ]
  },
  {
   "cell_type": "markdown",
   "id": "edfc6806-08e3-45b3-a958-6f02d6dbbdaa",
   "metadata": {},
   "source": [
    "#### functions of cv2 to zoomin and zoomout"
   ]
  },
  {
   "cell_type": "code",
   "execution_count": 15,
   "id": "352c1fe1-01ee-420e-85d8-d15a0f5f2d3d",
   "metadata": {},
   "outputs": [],
   "source": [
    "zoom_out = cv2.pyrDown(img)\n",
    "zoom_in = cv2.pyrUp(img)"
   ]
  },
  {
   "cell_type": "code",
   "execution_count": null,
   "id": "ceead00c-7a32-445e-b8e6-b92b8af3152d",
   "metadata": {},
   "outputs": [],
   "source": [
    "cv2.imshow(\"org_img\",zoom_out)\n",
    "cv2.imshow(\"scal_img\",zoom_in)\n",
    "cv2.waitKey(0)\n",
    "cv2.destroyAllWindows()"
   ]
  },
  {
   "cell_type": "markdown",
   "id": "0dfca02d-e6a1-447e-92bb-b548019402fe",
   "metadata": {},
   "source": [
    "### Sheering"
   ]
  },
  {
   "cell_type": "code",
   "execution_count": null,
   "id": "939f4d8e-0528-4ae7-b242-a3259ad1a09c",
   "metadata": {},
   "outputs": [],
   "source": [
    "shx = 1\n",
    "shy =1\n",
    "tx = 0\n",
    "ty = 0\n",
    "shx_m =np.array([[1,shx,tx],[shy,1,ty]],dtype =np.float32)\n"
   ]
  },
  {
   "cell_type": "code",
   "execution_count": null,
   "id": "d4374b87-eac4-490c-82fd-45720b9e05bb",
   "metadata": {},
   "outputs": [],
   "source": [
    "shx_img=cv2.warpAffine(img,shx_m,(640,360))\n",
    "cv2.imshow(\"org_img\",img)\n",
    "cv2.imshow(\"sh_img\",shx_img)\n",
    "cv2.waitKey(0)\n",
    "cv2.destroyAllWindows()"
   ]
  },
  {
   "cell_type": "markdown",
   "id": "e1388a30-c0f4-4cde-8ff2-ebf4bfaf7e2e",
   "metadata": {},
   "source": [
    "### Cropping"
   ]
  },
  {
   "cell_type": "code",
   "execution_count": 58,
   "id": "ace0386e-f518-4cd2-a62a-5a5e7d755551",
   "metadata": {},
   "outputs": [],
   "source": [
    "img= cv2.imread(r\"C:\\Users\\syam0\\Downloads\\Saniya Mastan\\catttt.jpg\")"
   ]
  },
  {
   "cell_type": "code",
   "execution_count": 60,
   "id": "b75286a2-bc62-43a9-a0fd-90f57ac8f9c7",
   "metadata": {},
   "outputs": [
    {
     "data": {
      "text/plain": [
       "(224, 225, 3)"
      ]
     },
     "execution_count": 60,
     "metadata": {},
     "output_type": "execute_result"
    }
   ],
   "source": [
    "img.shape"
   ]
  },
  {
   "cell_type": "code",
   "execution_count": 66,
   "id": "26009adc-0a11-41b1-bb65-d793f78312d5",
   "metadata": {},
   "outputs": [],
   "source": [
    "crp_img = img[29:91,30:93]"
   ]
  },
  {
   "cell_type": "code",
   "execution_count": 68,
   "id": "c5343e64-f45b-4034-b10c-ba64c9f86f42",
   "metadata": {},
   "outputs": [],
   "source": [
    "cv2.imshow(\"org_img\",img)\n",
    "cv2.imshow(\"crp_img\",crp_img)\n",
    "cv2.waitKey(0)\n",
    "cv2.destroyAllWindows()"
   ]
  },
  {
   "cell_type": "code",
   "execution_count": 70,
   "id": "3e21742d-bcfc-4b2a-a561-9a4a3bfd6fbc",
   "metadata": {},
   "outputs": [],
   "source": [
    "crp_img1 = img[1:48,112:163]"
   ]
  },
  {
   "cell_type": "code",
   "execution_count": 72,
   "id": "38772897-6cf6-4d76-8766-b36e82726327",
   "metadata": {},
   "outputs": [],
   "source": [
    "cv2.imshow(\"org_img\",img)\n",
    "cv2.imshow(\"crp_img1\",crp_img1)\n",
    "cv2.waitKey(0)\n",
    "cv2.destroyAllWindows()"
   ]
  },
  {
   "cell_type": "code",
   "execution_count": null,
   "id": "212cede1-cf38-494c-91cd-9bba503053e2",
   "metadata": {},
   "outputs": [],
   "source": []
  }
 ],
 "metadata": {
  "kernelspec": {
   "display_name": "Python 3 (ipykernel)",
   "language": "python",
   "name": "python3"
  },
  "language_info": {
   "codemirror_mode": {
    "name": "ipython",
    "version": 3
   },
   "file_extension": ".py",
   "mimetype": "text/x-python",
   "name": "python",
   "nbconvert_exporter": "python",
   "pygments_lexer": "ipython3",
   "version": "3.12.4"
  }
 },
 "nbformat": 4,
 "nbformat_minor": 5
}
