{
 "cells": [
  {
   "cell_type": "code",
   "execution_count": 1,
   "id": "c374c692-c572-435c-801a-2f333fcca072",
   "metadata": {},
   "outputs": [],
   "source": [
    "import numpy as np\n",
    "import os\n",
    "import pandas as pd\n",
    "import cv2"
   ]
  },
  {
   "cell_type": "markdown",
   "id": "9546c95c-3478-470c-bc2e-e5258b96cbb2",
   "metadata": {},
   "source": [
    "### White color canvas  --- color_space ---grayscale"
   ]
  },
  {
   "cell_type": "code",
   "execution_count": 2,
   "id": "fc5d4c66-7d9f-4c79-9cdb-599b06c7d74b",
   "metadata": {},
   "outputs": [
    {
     "name": "stdout",
     "output_type": "stream",
     "text": [
      "(500, 500)\n"
     ]
    }
   ],
   "source": [
    "## White color canvas  --- color_space ---grayscale\n",
    "canva = np.full((500,500),255,dtype = np.uint8)\n",
    "print(canva.shape)\n",
    "cv2.line(canva,(0,0),(200,0),(180),10)\n",
    "\n",
    "cv2.imshow(\"line\",canva)\n",
    "cv2.waitKey()\n",
    "cv2.destroyAllWindows()"
   ]
  },
  {
   "cell_type": "markdown",
   "id": "b763056b-7ee2-447a-b24f-69aeb08435e2",
   "metadata": {},
   "source": [
    "### White color canvas  --- color_space ---BGR"
   ]
  },
  {
   "cell_type": "code",
   "execution_count": 5,
   "id": "694bb6c9-f6ff-4cce-bd36-63a1cac839dc",
   "metadata": {},
   "outputs": [],
   "source": [
    "## White color canvas  --- color_space ---BGR\n",
    "canva = np.full((500,500,3),255,dtype = np.uint8)\n",
    "\n",
    "cv2.line(canva,(0,0),(500,500),(255,0,0),4)   #-- Diagonal line\n",
    "\n",
    "cv2.imshow(\"line\",canva)\n",
    "cv2.waitKey()\n",
    "cv2.destroyAllWindows()"
   ]
  },
  {
   "cell_type": "code",
   "execution_count": 13,
   "id": "cd720adf-e50b-41d1-88f9-aa44e0e09c7e",
   "metadata": {},
   "outputs": [],
   "source": [
    "## Vertical Line\n",
    "canva = np.full((500,500,3),255,dtype = np.uint8)\n",
    "\n",
    "cv2.line(canva,(255,0),(255,500),(255,0,0),4)\n",
    "\n",
    "cv2.imshow(\"line\",canva)\n",
    "cv2.waitKey()\n",
    "cv2.destroyAllWindows()"
   ]
  },
  {
   "cell_type": "code",
   "execution_count": 15,
   "id": "43c537d0-b710-4b91-92de-5d6c0173156b",
   "metadata": {},
   "outputs": [],
   "source": [
    "## half Vertical Line\n",
    "canva = np.full((500,500,3),255,dtype = np.uint8)\n",
    "\n",
    "cv2.line(canva,(255,0),(255,255),(255,0,0),4)\n",
    "\n",
    "cv2.imshow(\"line\",canva)\n",
    "cv2.waitKey()\n",
    "cv2.destroyAllWindows()"
   ]
  },
  {
   "cell_type": "code",
   "execution_count": 16,
   "id": "8116c579-9fe2-4c0b-a9fc-2550462943bf",
   "metadata": {},
   "outputs": [],
   "source": [
    "## Horizontal Line\n",
    "canva = np.full((500,500,3),255,dtype = np.uint8)\n",
    "\n",
    "cv2.line(canva,(0,250),(500,250),(255,0,0),4)\n",
    "\n",
    "cv2.imshow(\"line\",canva)\n",
    "cv2.waitKey()\n",
    "cv2.destroyAllWindows()"
   ]
  },
  {
   "cell_type": "markdown",
   "id": "940f66d9-1902-4555-baa9-fa53617642f7",
   "metadata": {},
   "source": [
    "### To Draw Rectangle or Square"
   ]
  },
  {
   "cell_type": "code",
   "execution_count": 19,
   "id": "865b917e-0f84-4b9b-aec7-38af180f4f85",
   "metadata": {},
   "outputs": [],
   "source": [
    "canva = np.full((500,500,3),255,dtype =np.uint8)\n",
    "\n",
    "cv2.rectangle(canva,(200,200),(400,400),(255,0,0),2)\n",
    "\n",
    "cv2.rectangle(canva,(300,200),(400,500),(255,0,0),-1)\n",
    "\n",
    "cv2.imshow(\"rectangle\",canva)\n",
    "cv2.waitKey()\n",
    "cv2.destroyAllWindows()"
   ]
  },
  {
   "cell_type": "code",
   "execution_count": 23,
   "id": "4a9238cd-b1ac-4488-a211-c95bfdb0c4a5",
   "metadata": {},
   "outputs": [],
   "source": [
    "canva = np.full((500,500,3),255,dtype =np.uint8)\n",
    "cv2.rectangle(canva,(200,200),(500,400),(255,0,0),2)\n",
    "\n",
    "cv2.imshow(\"rectangle\",canva)\n",
    "cv2.waitKey()\n",
    "cv2.destroyAllWindows()"
   ]
  },
  {
   "cell_type": "markdown",
   "id": "81eed0c7-424f-4927-9777-1a9ccce97ef5",
   "metadata": {},
   "source": [
    "### How to draw Circle"
   ]
  },
  {
   "cell_type": "code",
   "execution_count": 27,
   "id": "eb691c15-6eb3-4d98-acf1-ce606f1741b1",
   "metadata": {},
   "outputs": [],
   "source": [
    "canva = np.full((500,500,3),255,dtype =np.uint8)\n",
    "\n",
    "cv2.circle(canva,(250,250),150,(255,0,0),2)\n",
    "##image,center(pixel)(c,r),radius,color,thickness of the circle\n",
    "\n",
    "cv2.imshow(\"circle\",canva)\n",
    "cv2.waitKey()\n",
    "cv2.destroyAllWindows()\n"
   ]
  },
  {
   "cell_type": "markdown",
   "id": "c68bce2d-1c22-4dee-a1d0-f450acdffc67",
   "metadata": {},
   "source": [
    "#### both circle and rectangle"
   ]
  },
  {
   "cell_type": "code",
   "execution_count": 29,
   "id": "5a56c0d7-5d60-4a44-a6d0-8acbc6c67827",
   "metadata": {},
   "outputs": [],
   "source": [
    "canva = np.full((500,500,3),255,dtype =np.uint8)\n",
    "\n",
    "cv2.circle(canva,(250,250),150,(255,0,0),2)\n",
    "cv2.rectangle(canva,(200,200),(500,400),(0,255,0),-1)\n",
    "\n",
    "cv2.imshow(\"circle\",canva)\n",
    "cv2.waitKey()\n",
    "cv2.destroyAllWindows()"
   ]
  },
  {
   "cell_type": "markdown",
   "id": "b78ad4a9-8f9b-429a-8f13-5311574f6275",
   "metadata": {},
   "source": [
    "### To draw polyLines"
   ]
  },
  {
   "cell_type": "code",
   "execution_count": 35,
   "id": "e3381b1e-6ebc-4e5c-8f4f-bd59c92b0352",
   "metadata": {},
   "outputs": [],
   "source": [
    "pts = np.array([[12,15],[56,78],[89,10],[25,40],[60,30]])\n",
    "\n",
    "canva = np.full((500,500,3),255,dtype =np.uint8)\n",
    "\n",
    "pts = pts.reshape((-1,1,2))\n",
    "\n",
    "cv2.polylines(canva,[pts],True,(0,255,0),4)\n",
    "\n",
    "\n",
    "cv2.imshow(\"polylines\",canva)\n",
    "cv2.waitKey()\n",
    "cv2.destroyAllWindows()"
   ]
  },
  {
   "cell_type": "markdown",
   "id": "d8f6f98b-2cb0-48f3-86b7-ffda383bfd30",
   "metadata": {},
   "source": [
    "###  TO put text in inside the canvas"
   ]
  },
  {
   "cell_type": "code",
   "execution_count": 37,
   "id": "30935fee-c89b-4742-9037-788a47f3b4fc",
   "metadata": {},
   "outputs": [],
   "source": [
    "canva = np.full((600,600,3),255,dtype =np.uint8)\n",
    "\n",
    "cv2.putText(canva,\"SaniyaMastan\",(100,100),cv2.FONT_ITALIC,2,(255,0,0),8)\n",
    "\n",
    "cv2.imshow(\"txt\",canva)\n",
    "cv2.waitKey()\n",
    "cv2.destroyAllWindows()"
   ]
  },
  {
   "cell_type": "markdown",
   "id": "f890155f-be8f-474c-8309-a7832b7ba3a0",
   "metadata": {},
   "source": [
    "### Model to detect different patterns of Fingers"
   ]
  },
  {
   "cell_type": "markdown",
   "id": "130d721e-c305-43b2-9975-cdbf143baa7f",
   "metadata": {},
   "source": [
    "- 1.Create Folder and Sub Folders"
   ]
  },
  {
   "cell_type": "code",
   "execution_count": 63,
   "id": "5e0c0b9a-aaa2-4230-a14d-6617b8854192",
   "metadata": {},
   "outputs": [],
   "source": [
    "os.mkdir(r\"C:\\Users\\syam0\\Downloads\\hand_patterns\")"
   ]
  },
  {
   "cell_type": "code",
   "execution_count": 65,
   "id": "e151bf0d-c52a-4d0b-8eee-f827de1d9b0d",
   "metadata": {},
   "outputs": [],
   "source": [
    "for folder in [\"one\",\"two\",\"three\"]:\n",
    "    os.mkdir(r\"C:\\Users\\syam0\\Downloads\\hand_patterns\\{}\".format(folder))"
   ]
  },
  {
   "cell_type": "markdown",
   "id": "2b1020f4-9841-4593-b881-9ef95a2d4ae3",
   "metadata": {},
   "source": [
    "- 2.Create a LiveStream\n",
    "- 3.After showing add Rectangle and PutText\n",
    "- 4.Cropping the rectangle i.e the Bounding box i.e cropped image\n",
    "- 5.Added delay keys for the different cropped images i.e one finger ,two finger etc"
   ]
  },
  {
   "cell_type": "code",
   "execution_count": 39,
   "id": "1178fa67-6dfb-4a22-be03-4ab90a459d24",
   "metadata": {},
   "outputs": [
    {
     "name": "stdout",
     "output_type": "stream",
     "text": [
      "one saved\n",
      "one saved\n"
     ]
    }
   ],
   "source": [
    "vid = cv2.VideoCapture(0)\n",
    "o=0\n",
    "t=0\n",
    "th=0\n",
    "\n",
    "while True:\n",
    "    succ,img = vid.read()\n",
    "    cv2.rectangle(img,(300,100),(500,380),(0,0,255),1)\n",
    "    cv2.putText(img,\"Finger Capture\",(20,30),cv2.FONT_ITALIC,2,(255,0,0),2)\n",
    "\n",
    "    crp_img = img[100:380,300:500]\n",
    "    \n",
    "    cv2.imshow(\"livestream\",img)\n",
    "    cv2.imshow(\"crp_stream\",crp_img)\n",
    "\n",
    "    if cv2.waitKey(1)&255==ord(\"s\"):\n",
    "        cv2.imwrite(r\"C:\\Users\\syam0\\Downloads\\hand_patterns\\one\\{}.jpg\".format(o),crp_img)\n",
    "        print(\"one saved\")\n",
    "        o+=1\n",
    "\n",
    "    elif cv2.waitKey(1)&255==ord(\"d\"):\n",
    "        cv2.imwrite(r\"C:\\Users\\syam0\\Downloads\\hand_patterns\\two\\{}.jpg\".format(t),crp_img)\n",
    "        print(\"two saved\")\n",
    "        t+=1\n",
    "\n",
    "    elif cv2.waitKey(1)&255==ord(\"f\"):\n",
    "        cv2.imwrite(r\"C:\\Users\\syam0\\Downloads\\hand_patterns\\three\\{}.jpg\".format(th),crp_img)\n",
    "        print(\"three saved\")\n",
    "        th+=1\n",
    "\n",
    "    else:\n",
    "        if cv2.waitKey(1)&255==ord(\"q\"):\n",
    "            break\n",
    "        \n",
    "cv2.destroyAllWindows()"
   ]
  },
  {
   "cell_type": "code",
   "execution_count": 41,
   "id": "655930e5-bfc1-4acd-83a3-c1f198a70b52",
   "metadata": {},
   "outputs": [
    {
     "data": {
      "text/plain": [
       "(480, 640, 3)"
      ]
     },
     "execution_count": 41,
     "metadata": {},
     "output_type": "execute_result"
    }
   ],
   "source": [
    "img.shape"
   ]
  },
  {
   "cell_type": "code",
   "execution_count": null,
   "id": "e295d3d3-3452-407a-9157-c48762da54f5",
   "metadata": {},
   "outputs": [],
   "source": []
  }
 ],
 "metadata": {
  "kernelspec": {
   "display_name": "Python 3 (ipykernel)",
   "language": "python",
   "name": "python3"
  },
  "language_info": {
   "codemirror_mode": {
    "name": "ipython",
    "version": 3
   },
   "file_extension": ".py",
   "mimetype": "text/x-python",
   "name": "python",
   "nbconvert_exporter": "python",
   "pygments_lexer": "ipython3",
   "version": "3.12.4"
  }
 },
 "nbformat": 4,
 "nbformat_minor": 5
}
